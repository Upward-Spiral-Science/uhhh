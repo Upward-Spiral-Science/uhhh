{
 "cells": [
  {
   "cell_type": "markdown",
   "metadata": {},
   "source": [
    "# What is the mean of $S_i$?"
   ]
  },
  {
   "cell_type": "code",
   "execution_count": 15,
   "metadata": {
    "collapsed": false
   },
   "outputs": [],
   "source": [
    "import urllib2\n",
    "import csv\n",
    "import numpy\n",
    "\n",
    "data = open('../data/data.csv', 'r').readlines()\n",
    "fieldnames = ['x', 'y', 'z', 'unmasked', 'synapses']\n",
    "reader = csv.reader(data)\n",
    "reader.next()\n",
    "\n",
    "rows = [[int(col) for col in row] for row in reader]"
   ]
  },
  {
   "cell_type": "code",
   "execution_count": 16,
   "metadata": {
    "collapsed": false
   },
   "outputs": [
    {
     "data": {
      "text/plain": [
       "[19, 1369, 55, 5063, 0]"
      ]
     },
     "execution_count": 16,
     "metadata": {},
     "output_type": "execute_result"
    }
   ],
   "source": [
    "rows[0]"
   ]
  },
  {
   "cell_type": "code",
   "execution_count": 20,
   "metadata": {
    "collapsed": false
   },
   "outputs": [],
   "source": [
    "mean = numpy.mean([r[-1] for r in rows])\n",
    "no_um_mean = numpy.mean([r[-1] for r in rows if r[-2] == 0])\n",
    "only_um_mean = numpy.mean([r[-1] for r in rows if r[-2] != 0])"
   ]
  },
  {
   "cell_type": "code",
   "execution_count": 22,
   "metadata": {
    "collapsed": false
   },
   "outputs": [
    {
     "name": "stdout",
     "output_type": "stream",
     "text": [
      "(124.71150608650609, 0.0, 139.61649843243146)\n"
     ]
    }
   ],
   "source": [
    "print(mean, no_um_mean, only_um_mean)"
   ]
  },
  {
   "cell_type": "code",
   "execution_count": 23,
   "metadata": {
    "collapsed": true
   },
   "outputs": [],
   "source": [
    "var = numpy.var([r[-1] for r in rows])\n",
    "no_um_var = numpy.var([r[-1] for r in rows if r[-2] == 0])\n",
    "only_um_var = numpy.var([r[-1] for r in rows if r[-2] != 0])"
   ]
  },
  {
   "cell_type": "code",
   "execution_count": 24,
   "metadata": {
    "collapsed": false
   },
   "outputs": [
    {
     "name": "stdout",
     "output_type": "stream",
     "text": [
      "(8463.553588148694, 0.0, 7394.0989170154053)\n"
     ]
    }
   ],
   "source": [
    "print(var, no_um_var, only_um_var)"
   ]
  }
 ],
 "metadata": {
  "kernelspec": {
   "display_name": "Python 2",
   "language": "python",
   "name": "python2"
  },
  "language_info": {
   "codemirror_mode": {
    "name": "ipython",
    "version": 2
   },
   "file_extension": ".py",
   "mimetype": "text/x-python",
   "name": "python",
   "nbconvert_exporter": "python",
   "pygments_lexer": "ipython2",
   "version": "2.7.6"
  }
 },
 "nbformat": 4,
 "nbformat_minor": 0
}
