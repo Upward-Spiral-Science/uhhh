{
 "cells": [
  {
   "cell_type": "code",
   "execution_count": 3,
   "metadata": {
    "collapsed": true
   },
   "outputs": [],
   "source": [
    "%matplotlib inline\n",
    "\n",
    "from matplotlib import pyplot as plt\n",
    "import matplotlib.mlab as mlab\n",
    "import csv\n",
    "from scipy.stats import norm\n",
    "import numpy as np\n",
    "import scipy.stats as stats\n",
    "import pandas as pd\n"
   ]
  },
  {
   "cell_type": "code",
   "execution_count": 4,
   "metadata": {
    "collapsed": true
   },
   "outputs": [],
   "source": [
    "data = open('../data/data.csv', 'r').readlines()\n",
    "fieldnames = ['x', 'y', 'z', 'unmasked', 'synapses']\n",
    "reader = csv.reader(data)\n",
    "reader.next()\n",
    "\n",
    "rows = [[int(col) for col in row] for row in reader]"
   ]
  },
  {
   "cell_type": "code",
   "execution_count": 5,
   "metadata": {
    "collapsed": true
   },
   "outputs": [],
   "source": [
    "df = pd.DataFrame(rows)"
   ]
  },
  {
   "cell_type": "code",
   "execution_count": 6,
   "metadata": {
    "collapsed": false
   },
   "outputs": [],
   "source": [
    "df.columns = ['x', 'y', 'z', 'unmasked', 'synDen']"
   ]
  },
  {
   "cell_type": "code",
   "execution_count": 7,
   "metadata": {
    "collapsed": true
   },
   "outputs": [],
   "source": [
    "df = df[df.unmasked != 0]\n",
    "df = df[df.synDen != 0]\n"
   ]
  },
  {
   "cell_type": "code",
   "execution_count": 8,
   "metadata": {
    "collapsed": true
   },
   "outputs": [],
   "source": [
    "df['synDen'] = df['synDen']/df['unmasked']"
   ]
  },
  {
   "cell_type": "code",
   "execution_count": 9,
   "metadata": {
    "collapsed": false
   },
   "outputs": [
    {
     "name": "stdout",
     "output_type": "stream",
     "text": [
      "[[ 0.00113788]\n",
      " [ 0.00021915]\n",
      " [ 0.00088586]\n",
      " ..., \n",
      " [ 0.00065746]\n",
      " [ 0.00043831]\n",
      " [ 0.00070205]]\n"
     ]
    }
   ],
   "source": [
    "synData = df['synDen'].reshape(-1,1)\n",
    "print synData"
   ]
  },
  {
   "cell_type": "code",
   "execution_count": 10,
   "metadata": {
    "collapsed": false
   },
   "outputs": [],
   "source": [
    "from sklearn.cluster import KMeans\n"
   ]
  },
  {
   "cell_type": "code",
   "execution_count": 21,
   "metadata": {
    "collapsed": false
   },
   "outputs": [],
   "source": [
    "k_range = range(1,26)\n",
    "k_means_var = [KMeans(n_clusters = k).fit(synData) for k in k_range]\n",
    "centroids = [X.cluster_centers_ for X in k_means_var]"
   ]
  },
  {
   "cell_type": "code",
   "execution_count": 22,
   "metadata": {
    "collapsed": false
   },
   "outputs": [
    {
     "name": "stdout",
     "output_type": "stream",
     "text": [
      "[KMeans(copy_x=True, init='k-means++', max_iter=300, n_clusters=1, n_init=10,\n",
      "    n_jobs=1, precompute_distances='auto', random_state=None, tol=0.0001,\n",
      "    verbose=0), KMeans(copy_x=True, init='k-means++', max_iter=300, n_clusters=2, n_init=10,\n",
      "    n_jobs=1, precompute_distances='auto', random_state=None, tol=0.0001,\n",
      "    verbose=0), KMeans(copy_x=True, init='k-means++', max_iter=300, n_clusters=3, n_init=10,\n",
      "    n_jobs=1, precompute_distances='auto', random_state=None, tol=0.0001,\n",
      "    verbose=0), KMeans(copy_x=True, init='k-means++', max_iter=300, n_clusters=4, n_init=10,\n",
      "    n_jobs=1, precompute_distances='auto', random_state=None, tol=0.0001,\n",
      "    verbose=0), KMeans(copy_x=True, init='k-means++', max_iter=300, n_clusters=5, n_init=10,\n",
      "    n_jobs=1, precompute_distances='auto', random_state=None, tol=0.0001,\n",
      "    verbose=0), KMeans(copy_x=True, init='k-means++', max_iter=300, n_clusters=6, n_init=10,\n",
      "    n_jobs=1, precompute_distances='auto', random_state=None, tol=0.0001,\n",
      "    verbose=0), KMeans(copy_x=True, init='k-means++', max_iter=300, n_clusters=7, n_init=10,\n",
      "    n_jobs=1, precompute_distances='auto', random_state=None, tol=0.0001,\n",
      "    verbose=0), KMeans(copy_x=True, init='k-means++', max_iter=300, n_clusters=8, n_init=10,\n",
      "    n_jobs=1, precompute_distances='auto', random_state=None, tol=0.0001,\n",
      "    verbose=0), KMeans(copy_x=True, init='k-means++', max_iter=300, n_clusters=9, n_init=10,\n",
      "    n_jobs=1, precompute_distances='auto', random_state=None, tol=0.0001,\n",
      "    verbose=0), KMeans(copy_x=True, init='k-means++', max_iter=300, n_clusters=10, n_init=10,\n",
      "    n_jobs=1, precompute_distances='auto', random_state=None, tol=0.0001,\n",
      "    verbose=0), KMeans(copy_x=True, init='k-means++', max_iter=300, n_clusters=11, n_init=10,\n",
      "    n_jobs=1, precompute_distances='auto', random_state=None, tol=0.0001,\n",
      "    verbose=0), KMeans(copy_x=True, init='k-means++', max_iter=300, n_clusters=12, n_init=10,\n",
      "    n_jobs=1, precompute_distances='auto', random_state=None, tol=0.0001,\n",
      "    verbose=0), KMeans(copy_x=True, init='k-means++', max_iter=300, n_clusters=13, n_init=10,\n",
      "    n_jobs=1, precompute_distances='auto', random_state=None, tol=0.0001,\n",
      "    verbose=0), KMeans(copy_x=True, init='k-means++', max_iter=300, n_clusters=14, n_init=10,\n",
      "    n_jobs=1, precompute_distances='auto', random_state=None, tol=0.0001,\n",
      "    verbose=0), KMeans(copy_x=True, init='k-means++', max_iter=300, n_clusters=15, n_init=10,\n",
      "    n_jobs=1, precompute_distances='auto', random_state=None, tol=0.0001,\n",
      "    verbose=0), KMeans(copy_x=True, init='k-means++', max_iter=300, n_clusters=16, n_init=10,\n",
      "    n_jobs=1, precompute_distances='auto', random_state=None, tol=0.0001,\n",
      "    verbose=0), KMeans(copy_x=True, init='k-means++', max_iter=300, n_clusters=17, n_init=10,\n",
      "    n_jobs=1, precompute_distances='auto', random_state=None, tol=0.0001,\n",
      "    verbose=0), KMeans(copy_x=True, init='k-means++', max_iter=300, n_clusters=18, n_init=10,\n",
      "    n_jobs=1, precompute_distances='auto', random_state=None, tol=0.0001,\n",
      "    verbose=0), KMeans(copy_x=True, init='k-means++', max_iter=300, n_clusters=19, n_init=10,\n",
      "    n_jobs=1, precompute_distances='auto', random_state=None, tol=0.0001,\n",
      "    verbose=0), KMeans(copy_x=True, init='k-means++', max_iter=300, n_clusters=20, n_init=10,\n",
      "    n_jobs=1, precompute_distances='auto', random_state=None, tol=0.0001,\n",
      "    verbose=0), KMeans(copy_x=True, init='k-means++', max_iter=300, n_clusters=21, n_init=10,\n",
      "    n_jobs=1, precompute_distances='auto', random_state=None, tol=0.0001,\n",
      "    verbose=0), KMeans(copy_x=True, init='k-means++', max_iter=300, n_clusters=22, n_init=10,\n",
      "    n_jobs=1, precompute_distances='auto', random_state=None, tol=0.0001,\n",
      "    verbose=0), KMeans(copy_x=True, init='k-means++', max_iter=300, n_clusters=23, n_init=10,\n",
      "    n_jobs=1, precompute_distances='auto', random_state=None, tol=0.0001,\n",
      "    verbose=0), KMeans(copy_x=True, init='k-means++', max_iter=300, n_clusters=24, n_init=10,\n",
      "    n_jobs=1, precompute_distances='auto', random_state=None, tol=0.0001,\n",
      "    verbose=0), KMeans(copy_x=True, init='k-means++', max_iter=300, n_clusters=25, n_init=10,\n",
      "    n_jobs=1, precompute_distances='auto', random_state=None, tol=0.0001,\n",
      "    verbose=0)]\n"
     ]
    }
   ],
   "source": [
    "print k_means_var"
   ]
  },
  {
   "cell_type": "code",
   "execution_count": 23,
   "metadata": {
    "collapsed": true
   },
   "outputs": [],
   "source": [
    "from scipy.spatial import distance\n",
    "def compute_bic(kmeans,X):\n",
    "    \"\"\"\n",
    "    Computes the BIC metric for a given clusters\n",
    "\n",
    "    Parameters:\n",
    "    -----------------------------------------\n",
    "    kmeans:  List of clustering object from scikit learn\n",
    "\n",
    "    X     :  multidimension np array of data points\n",
    "\n",
    "    Returns:\n",
    "    -----------------------------------------\n",
    "    BIC value\n",
    "    \"\"\"\n",
    "    # assign centers and labels\n",
    "    centers = [kmeans.cluster_centers_]\n",
    "    labels  = kmeans.labels_\n",
    "    #number of clusters\n",
    "    m = kmeans.n_clusters\n",
    "    # size of the clusters\n",
    "    n = np.bincount(labels)\n",
    "    #size of data set\n",
    "    N, d = X.shape\n",
    "\n",
    "    #compute variance for all clusters beforehand\n",
    "    cl_var = (1.0 / (N - m) / d) * sum([sum(distance.cdist(X[np.where(labels == i)], [centers[0][i]], 'euclidean')**2) for i in range(m)])\n",
    "\n",
    "    const_term = 0.5 * m * np.log(N) * (d+1)\n",
    "\n",
    "    BIC = np.sum([n[i] * np.log(n[i]) -\n",
    "               n[i] * np.log(N) -\n",
    "             ((n[i] * d) / 2) * np.log(2*np.pi*cl_var) -\n",
    "             ((n[i] - 1) * d/ 2) for i in range(m)]) - const_term\n",
    "\n",
    "    return(BIC)"
   ]
  },
  {
   "cell_type": "code",
   "execution_count": 24,
   "metadata": {
    "collapsed": false
   },
   "outputs": [
    {
     "data": {
      "text/plain": [
       "<matplotlib.text.Text at 0x10aca37d0>"
      ]
     },
     "execution_count": 24,
     "metadata": {},
     "output_type": "execute_result"
    },
    {
     "data": {
      "image/png": "[encoded data removed]",
      "text/plain": [
       "<matplotlib.figure.Figure at 0x10ac9d850>"
      ]
     },
     "metadata": {},
     "output_type": "display_data"
    }
   ],
   "source": [
    "BIC = [compute_bic(kmeansi ,synData) for kmeansi in k_means_var]\n",
    "plt.plot(k_range,BIC,'r-o')\n",
    "plt.title(\"cluster vs BIC\")\n",
    "plt.xlabel(\"# clusters\")\n",
    "plt.ylabel(\"# BIC\")\n",
    "\n",
    "#Code From: http://www.slideshare.net/SarahGuido/kmeans-clustering-with-scikitlearn\n",
    "#Code From: http://stats.stackexchange.com/questions/90769/using-bic-to-estimate-the-number-of-k-in-kmeans\n"
   ]
  },
  {
   "cell_type": "code",
   "execution_count": 25,
   "metadata": {
    "collapsed": true
   },
   "outputs": [],
   "source": [
    "#optimum number of clusters is 6 looking at the elbow of the graph"
   ]
  },
  {
   "cell_type": "code",
   "execution_count": 27,
   "metadata": {
    "collapsed": false
   },
   "outputs": [
    {
     "name": "stdout",
     "output_type": "stream",
     "text": [
      "          x     y     z  unmasked    synDen  clusterGroup\n",
      "5        19  1369   610     14940  0.001138             2\n",
      "9        19  1369  1054      4563  0.000219             0\n",
      "16       19  1408   610     14675  0.000886             2\n",
      "22       19  1447    55      4856  0.000206             0\n",
      "27       19  1447   610     14396  0.001111             2\n",
      "38       19  1486   610     14009  0.001499             4\n",
      "42       19  1486  1054      4563  0.000219             0\n",
      "49       19  1525   610     13810  0.001231             1\n",
      "60       19  1564   610     13271  0.000904             2\n",
      "71       19  1603   610     13073  0.000306             0\n",
      "77       19  1642    55      7943  0.000252             0\n",
      "82       19  1642   610     12743  0.000157             0\n",
      "88       19  1681    55      8490  0.000236             0\n",
      "93       19  1681   610     11616  0.000172             0\n",
      "99       19  1720    55      9468  0.000211             0\n",
      "104      19  1720   610     10081  0.000397             0\n",
      "110      19  1759    55     10312  0.000776             5\n",
      "115      19  1759   610     10220  0.000098             0\n",
      "117      19  1759   832      4563  0.000219             0\n",
      "121      19  1798    55     10520  0.000951             2\n",
      "126      19  1798   610     11332  0.000441             0\n",
      "132      19  1837    55     10801  0.000278             0\n",
      "137      19  1837   610     10936  0.000457             0\n",
      "139      19  1837   832      4563  0.000438             0\n",
      "154      19  1915    55     11418  0.000350             0\n",
      "165      19  1954    55     12838  0.000779             5\n",
      "170      19  1954   610     10002  0.000100             0\n",
      "176      19  1993    55     13681  0.000512             5\n",
      "181      19  1993   610      9706  0.000309             0\n",
      "187      19  2032    55     14006  0.000500             5\n",
      "...     ...   ...   ...       ...       ...           ...\n",
      "61574  4192  2656   832      9126  0.002301             3\n",
      "61578  4192  2695    55     13271  0.000301             0\n",
      "61583  4192  2695   610     10647  0.001409             1\n",
      "61585  4192  2695   832      9126  0.000986             2\n",
      "61589  4192  2734    55     11813  0.000169             0\n",
      "61594  4192  2734   610     10300  0.000583             5\n",
      "61596  4192  2734   832      9126  0.000110             0\n",
      "61600  4192  2773    55     10904  0.000183             0\n",
      "61605  4192  2773   610     10377  0.000096             0\n",
      "61607  4192  2773   832      9126  0.000767             5\n",
      "61611  4192  2812    55     10602  0.000189             0\n",
      "61614  4192  2812   388      4563  0.000877             2\n",
      "61616  4192  2812   610     10647  0.000282             0\n",
      "61618  4192  2812   832      9126  0.001534             4\n",
      "61622  4192  2851    55      9980  0.000802             5\n",
      "61627  4192  2851   610     10196  0.000392             0\n",
      "61629  4192  2851   832      9126  0.000767             5\n",
      "61633  4192  2890    55      9952  0.000402             0\n",
      "61638  4192  2890   610      9126  0.000767             5\n",
      "61640  4192  2890   832      9078  0.000551             5\n",
      "61649  4192  2929   610      9007  0.000333             0\n",
      "61651  4192  2929   832      7342  0.000953             2\n",
      "61655  4192  2968    55      8693  0.001035             2\n",
      "61660  4192  2968   610      8657  0.000693             5\n",
      "61662  4192  2968   832      9126  0.001315             1\n",
      "61666  4192  3007    55      4794  0.000834             5\n",
      "61671  4192  3007   610      6367  0.000314             0\n",
      "61673  4192  3007   832      9126  0.000657             5\n",
      "61684  4192  3046   832      9126  0.000438             0\n",
      "61695  4192  3085   832      7122  0.000702             5\n",
      "\n",
      "[50180 rows x 6 columns]\n"
     ]
    }
   ],
   "source": [
    "km = KMeans(n_clusters = 6)\n",
    "km.fit(synData)\n",
    "labels = km.labels_\n",
    "df['clusterGroup'] = labels\n",
    "\n",
    "print df"
   ]
  },
  {
   "cell_type": "code",
   "execution_count": null,
   "metadata": {
    "collapsed": true
   },
   "outputs": [],
   "source": []
  }
 ],
 "metadata": {
  "kernelspec": {
   "display_name": "Python 2",
   "language": "python",
   "name": "python2"
  },
  "language_info": {
   "codemirror_mode": {
    "name": "ipython",
    "version": 2
   },
   "file_extension": ".py",
   "mimetype": "text/x-python",
   "name": "python",
   "nbconvert_exporter": "python",
   "pygments_lexer": "ipython2",
   "version": "2.7.6"
  }
 },
 "nbformat": 4,
 "nbformat_minor": 0
}
