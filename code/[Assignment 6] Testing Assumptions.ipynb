{
 "cells": [
  {
   "cell_type": "markdown",
   "metadata": {},
   "source": [
    "# Testing Assumptions\n",
    "We want to test the following assumptions:\n",
    "\n",
    "- Our 'bins' follow the distribution of a Gaussian summed with an exponential\n",
    "- Our bins are <small>IID</small>"
   ]
  },
  {
   "cell_type": "code",
   "execution_count": 31,
   "metadata": {
    "collapsed": false
   },
   "outputs": [],
   "source": [
    "%matplotlib inline\n",
    "from setup import SETUP; data = SETUP().ptr_volume\n",
    "\n",
    "import numpy\n",
    "import matplotlib.pyplot as plt"
   ]
  },
  {
   "cell_type": "markdown",
   "metadata": {},
   "source": [
    "We propose that our data are sampled from:\n",
    "\n",
    "$$F=\\pi_1 F_1 + \\pi_2 F_2$$\n",
    "\n",
    "where $F_1$ is a normal distribution centered at approximately ≈200 and $F_2$ is an exponential (at 0).\n",
    "\n",
    "To substantiate this, we use EM to assign each datapoint to a cluster ($\\in F_1$ or $F_2$).\n",
    "\n",
    "To fit our data to a 1D Gaussian ($\\mathcal{N}(\\mu, \\sigma^2)$), we will calculate $\\mu$ and $\\sigma^2$ empirically from the data. However, the data are not strictly normally distributed:"
   ]
  },
  {
   "cell_type": "code",
   "execution_count": 47,
   "metadata": {
    "collapsed": false
   },
   "outputs": [
    {
     "data": {
      "image/png": "[encoded data removed]",
      "text/plain": [
       "<matplotlib.figure.Figure at 0x1144657d0>"
      ]
     },
     "metadata": {},
     "output_type": "display_data"
    }
   ],
   "source": [
    "plt.hist(data.ravel(), bins=30, log=True)\n",
    "plt.show()"
   ]
  },
  {
   "cell_type": "markdown",
   "metadata": {},
   "source": [
    "In order to account for this, we will consider subsets of bins rather than the whole dataset."
   ]
  },
  {
   "cell_type": "code",
   "execution_count": 41,
   "metadata": {
    "collapsed": false
   },
   "outputs": [
    {
     "data": {
      "image/png": "[encoded data removed]",
      "text/plain": [
       "<matplotlib.figure.Figure at 0x113eac3d0>"
      ]
     },
     "metadata": {},
     "output_type": "display_data"
    }
   ],
   "source": [
    "subset = data.ravel()[30000:]\n",
    "plt.hist(subset, bins=30)\n",
    "plt.show()"
   ]
  },
  {
   "cell_type": "code",
   "execution_count": 37,
   "metadata": {
    "collapsed": true
   },
   "outputs": [],
   "source": [
    "stdev = (numpy.var(subset.ravel()))**2\n",
    "mean = numpy.mean(subset)"
   ]
  }
 ],
 "metadata": {
  "kernelspec": {
   "display_name": "Python 2",
   "language": "python",
   "name": "python2"
  },
  "language_info": {
   "codemirror_mode": {
    "name": "ipython",
    "version": 2
   },
   "file_extension": ".py",
   "mimetype": "text/x-python",
   "name": "python",
   "nbconvert_exporter": "python",
   "pygments_lexer": "ipython2",
   "version": "2.7.10"
  }
 },
 "nbformat": 4,
 "nbformat_minor": 0
}
