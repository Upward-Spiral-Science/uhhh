{
 "cells": [
  {
   "cell_type": "code",
   "execution_count": 3,
   "metadata": {
    "collapsed": true
   },
   "outputs": [],
   "source": [
    "import numpy\n",
    "import csv\n",
    "\n",
    "class SETUP():\n",
    "    def __init__(self):\n",
    "        data = open('../data/data.csv', 'r').readlines()\n",
    "        fieldnames = ['x', 'y', 'z', 'unmasked', 'synapses']\n",
    "        reader = csv.reader(data)\n",
    "        reader.next()\n",
    "\n",
    "        rows = [[int(col) for col in row] for row in reader]\n",
    "\n",
    "        sorted_x = sorted(list(set([r[0] for r in rows])))\n",
    "        sorted_y = sorted(list(set([r[1] for r in rows])))\n",
    "        sorted_z = sorted(list(set([r[2] for r in rows])))\n",
    "\n",
    "        # Pass-to-ranks volume, useful for reducing size of data.\n",
    "        self.ptr_volume = numpy.ndarray((len(sorted_x), len(sorted_y), len(sorted_z)))\n",
    "        self.volume = numpy.ndarray((max(sorted_x), max(sorted_y), max(sorted_z)))\n",
    "        for row in rows:\n",
    "            if row[-1] != 0:\n",
    "                self.volume[row[0], row[1], row[2]] = row[-1]\n",
    "                self.ptr_volume[sorted_x.index(row[0]), sorted_y.index(row[1]), sorted_z.index(row[2])] = row[-1]"
   ]
  }
 ],
 "metadata": {
  "kernelspec": {
   "display_name": "Python 2",
   "language": "python",
   "name": "python2"
  },
  "language_info": {
   "codemirror_mode": {
    "name": "ipython",
    "version": 2
   },
   "file_extension": ".py",
   "mimetype": "text/x-python",
   "name": "python",
   "nbconvert_exporter": "python",
   "pygments_lexer": "ipython2",
   "version": "2.7.10"
  }
 },
 "nbformat": 4,
 "nbformat_minor": 0
}
