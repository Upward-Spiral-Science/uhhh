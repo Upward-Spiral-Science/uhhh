{
 "cells": [
  {
   "cell_type": "markdown",
   "metadata": {},
   "source": [
    "# PCA of Volume\n",
    "Here, we use scikit to determine the PCA of our volume."
   ]
  },
  {
   "cell_type": "code",
   "execution_count": 4,
   "metadata": {
    "collapsed": false
   },
   "outputs": [],
   "source": [
    "from sklearn.decomposition import PCA\n",
    "import numpy\n",
    "import csv"
   ]
  },
  {
   "cell_type": "code",
   "execution_count": 5,
   "metadata": {
    "collapsed": false
   },
   "outputs": [],
   "source": [
    "data = open('../data/data.csv', 'r').readlines()\n",
    "fieldnames = ['x', 'y', 'z', 'unmasked', 'synapses']\n",
    "reader = csv.reader(data)\n",
    "reader.next()\n",
    "\n",
    "rows = [[int(col) for col in row] for row in reader]\n",
    "\n",
    "sorted_x = sorted(list(set([r[0] for r in rows])))\n",
    "sorted_y = sorted(list(set([r[1] for r in rows])))\n",
    "sorted_z = sorted(list(set([r[2] for r in rows])))\n",
    "\n",
    "volume = numpy.ndarray((len(sorted_x), len(sorted_y), len(sorted_z)))\n",
    "for row in rows:\n",
    "    if row[-1] != 0:\n",
    "        volume[sorted_x.index(row[0]), sorted_y.index(row[1]), sorted_z.index(row[2])] = row[-1]"
   ]
  },
  {
   "cell_type": "code",
   "execution_count": 15,
   "metadata": {
    "collapsed": false
   },
   "outputs": [],
   "source": [
    "pca = PCA(n_components=1)\n",
    "transform = pca.fit_transform(volume[:,:,0])"
   ]
  },
  {
   "cell_type": "code",
   "execution_count": 16,
   "metadata": {
    "collapsed": false
   },
   "outputs": [
    {
     "data": {
      "text/plain": [
       "array([[-886.6115159 ],\n",
       "       [-858.15270569],\n",
       "       [-825.54889104],\n",
       "       [-779.75375705],\n",
       "       [-682.44778292],\n",
       "       [-429.01863017],\n",
       "       [-210.76276833],\n",
       "       [-131.34612328],\n",
       "       [-141.44509324],\n",
       "       [  -2.11330061],\n",
       "       [  39.29681367],\n",
       "       [ 136.57321773],\n",
       "       [ 246.93289915],\n",
       "       [ 173.37986154],\n",
       "       [ 112.98120081],\n",
       "       [ 132.06915806],\n",
       "       [ 143.79360142],\n",
       "       [ 219.65658196],\n",
       "       [ 174.69658565],\n",
       "       [  92.6640304 ],\n",
       "       [ 130.29222453],\n",
       "       [ 139.29472628],\n",
       "       [ 191.0412534 ],\n",
       "       [  94.88840787],\n",
       "       [ 103.37029907],\n",
       "       [ 163.63576251],\n",
       "       [ 207.17747612],\n",
       "       [ 108.55639695],\n",
       "       [  24.31750356],\n",
       "       [ 152.25439711],\n",
       "       [ 215.25808953],\n",
       "       [ 215.42879739],\n",
       "       [ 154.5459821 ],\n",
       "       [  21.56630054],\n",
       "       [  22.35054265],\n",
       "       [ 157.95831897],\n",
       "       [ 119.31350016],\n",
       "       [  38.46326383],\n",
       "       [  13.53965724],\n",
       "       [ -20.49981791],\n",
       "       [  20.18457862],\n",
       "       [ 105.79779536],\n",
       "       [ 176.82726138],\n",
       "       [ 110.21519771],\n",
       "       [  44.79580822],\n",
       "       [ -20.84595325],\n",
       "       [  54.31884082],\n",
       "       [  76.10682975],\n",
       "       [  51.49193154],\n",
       "       [   2.475509  ],\n",
       "       [ -14.35305648],\n",
       "       [  45.21636667],\n",
       "       [ 108.24947666],\n",
       "       [ 196.61861444],\n",
       "       [ 166.20524344],\n",
       "       [   8.07323948],\n",
       "       [ -62.91195347],\n",
       "       [ -77.80677468],\n",
       "       [ -37.93380358],\n",
       "       [ 126.4255149 ],\n",
       "       [ 232.66722256],\n",
       "       [ 103.13615338],\n",
       "       [  93.03702967],\n",
       "       [ 101.8291333 ],\n",
       "       [ 200.25771075],\n",
       "       [ 277.71492051],\n",
       "       [ 160.07671648],\n",
       "       [ 213.28549329],\n",
       "       [ 217.94111936],\n",
       "       [ 174.86724498],\n",
       "       [ 223.82721803],\n",
       "       [ 112.46046349],\n",
       "       [ 274.01841562],\n",
       "       [ 303.01771547],\n",
       "       [ 315.9834643 ],\n",
       "       [ 398.88004946],\n",
       "       [ 336.50409292],\n",
       "       [ 149.83442171],\n",
       "       [  95.0739762 ],\n",
       "       [  85.05623936],\n",
       "       [  87.65291206],\n",
       "       [ 127.91012982],\n",
       "       [  95.47631255],\n",
       "       [  38.73233236],\n",
       "       [  15.92611064],\n",
       "       [ -29.61205631],\n",
       "       [ 195.80411256],\n",
       "       [ 183.97969605],\n",
       "       [ 143.50941717],\n",
       "       [  32.73477432],\n",
       "       [ 149.57863887],\n",
       "       [ 191.0375921 ],\n",
       "       [ 203.75073672],\n",
       "       [ 181.1625721 ],\n",
       "       [ 228.41000359],\n",
       "       [ 131.09892718],\n",
       "       [  45.6439879 ],\n",
       "       [ 114.27483266],\n",
       "       [ -72.97688008],\n",
       "       [-229.30012034],\n",
       "       [-403.83894596],\n",
       "       [-568.15218944],\n",
       "       [-678.35627473],\n",
       "       [-780.89773441],\n",
       "       [-813.23935201],\n",
       "       [-823.77493851],\n",
       "       [-825.33003213],\n",
       "       [-867.42049608]])"
      ]
     },
     "execution_count": 16,
     "metadata": {},
     "output_type": "execute_result"
    }
   ],
   "source": [
    "transform"
   ]
  },
  {
   "cell_type": "code",
   "execution_count": null,
   "metadata": {
    "collapsed": true
   },
   "outputs": [],
   "source": []
  }
 ],
 "metadata": {
  "kernelspec": {
   "display_name": "Python 2",
   "language": "python",
   "name": "python2"
  },
  "language_info": {
   "codemirror_mode": {
    "name": "ipython",
    "version": 2
   },
   "file_extension": ".py",
   "mimetype": "text/x-python",
   "name": "python",
   "nbconvert_exporter": "python",
   "pygments_lexer": "ipython2",
   "version": "2.7.10"
  }
 },
 "nbformat": 4,
 "nbformat_minor": 0
}
