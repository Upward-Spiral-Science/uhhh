{
 "cells": [
  {
   "cell_type": "code",
   "execution_count": 2,
   "metadata": {
    "collapsed": true
   },
   "outputs": [],
   "source": [
    "%matplotlib inline\n",
    "\n",
    "from matplotlib import pyplot as plt\n",
    "import matplotlib.mlab as mlab\n",
    "import csv\n",
    "from scipy.stats import norm\n",
    "import numpy as np\n",
    "import scipy.stats as stats\n",
    "import pandas as pd\n",
    "from mpl_toolkits.mplot3d import axes3d\n",
    "import seaborn as sns\n",
    "from sklearn.cluster import DBSCAN\n"
   ]
  },
  {
   "cell_type": "code",
   "execution_count": 3,
   "metadata": {
    "collapsed": true
   },
   "outputs": [],
   "source": [
    "data = open('../data/data.csv', 'r').readlines()\n",
    "fieldnames = ['x', 'y', 'z', 'unmasked', 'synapses']\n",
    "reader = csv.reader(data)\n",
    "reader.next()\n",
    "\n",
    "rows = [[int(col) for col in row] for row in reader]"
   ]
  },
  {
   "cell_type": "code",
   "execution_count": 4,
   "metadata": {
    "collapsed": true
   },
   "outputs": [],
   "source": [
    "df = pd.DataFrame(rows)"
   ]
  },
  {
   "cell_type": "code",
   "execution_count": 5,
   "metadata": {
    "collapsed": true
   },
   "outputs": [],
   "source": [
    "df.columns = ['x', 'y', 'z', 'unmasked', 'synDen']"
   ]
  },
  {
   "cell_type": "code",
   "execution_count": 6,
   "metadata": {
    "collapsed": true
   },
   "outputs": [],
   "source": [
    "df = df[df.unmasked != 0]\n",
    "df = df[df.synDen != 0]"
   ]
  },
  {
   "cell_type": "code",
   "execution_count": 8,
   "metadata": {
    "collapsed": false
   },
   "outputs": [
    {
     "name": "stdout",
     "output_type": "stream",
     "text": [
      "[[  1.90000000e+01   1.36900000e+03   6.10000000e+02   7.61636443e-08]\n",
      " [  1.90000000e+01   1.36900000e+03   1.05400000e+03   4.80285038e-08]\n",
      " [  1.90000000e+01   1.40800000e+03   6.10000000e+02   6.03652666e-08]\n",
      " ..., \n",
      " [  4.19200000e+03   3.00700000e+03   8.32000000e+02   7.20427593e-08]\n",
      " [  4.19200000e+03   3.04600000e+03   8.32000000e+02   4.80285038e-08]\n",
      " [  4.19200000e+03   3.08500000e+03   8.32000000e+02   9.85748372e-08]]\n"
     ]
    }
   ],
   "source": [
    "df['synDen'] = df['synDen']/df['unmasked']\n",
    "#data = df['synDen'].reshape(-1,1)\n",
    "data = df[['x', 'y', 'z', 'synDen']]\n",
    "data = data.as_matrix().astype(\"float32\", copy = False)\n",
    "print data\n",
    "\n"
   ]
  },
  {
   "cell_type": "code",
   "execution_count": 34,
   "metadata": {
    "collapsed": false
   },
   "outputs": [],
   "source": [
    "dbsc = DBSCAN(eps = 55, min_samples = 1115).fit(data) "
   ]
  },
  {
   "cell_type": "code",
   "execution_count": 35,
   "metadata": {
    "collapsed": false
   },
   "outputs": [
    {
     "name": "stdout",
     "output_type": "stream",
     "text": [
      "[-1 -1 -1 ..., -1 -1 -1]\n",
      "50180\n",
      "1\n"
     ]
    }
   ],
   "source": [
    "labels = dbsc.labels_  \n",
    "print labels\n",
    "print len(df)\n",
    "\n",
    "l = []\n",
    "for i in range(0,len(labels)):\n",
    "    if(labels[i] not in l):\n",
    "        l.append(labels[i])\n",
    "        \n",
    "print len(l)\n"
   ]
  },
  {
   "cell_type": "code",
   "execution_count": null,
   "metadata": {
    "collapsed": true
   },
   "outputs": [],
   "source": []
  }
 ],
 "metadata": {
  "kernelspec": {
   "display_name": "Python 2",
   "language": "python",
   "name": "python2"
  },
  "language_info": {
   "codemirror_mode": {
    "name": "ipython",
    "version": 2
   },
   "file_extension": ".py",
   "mimetype": "text/x-python",
   "name": "python",
   "nbconvert_exporter": "python",
   "pygments_lexer": "ipython2",
   "version": "2.7.6"
  }
 },
 "nbformat": 4,
 "nbformat_minor": 0
}
